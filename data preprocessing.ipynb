{
 "cells": [
  {
   "cell_type": "code",
   "execution_count": 25,
   "metadata": {
    "ExecuteTime": {
     "end_time": "2021-04-09T14:20:42.186884Z",
     "start_time": "2021-04-09T14:20:26.666110Z"
    }
   },
   "outputs": [],
   "source": [
    "import pandas as pd\n",
    "import numpy as np\n",
    "\n",
    "import matplotlib.pyplot as plt\n",
    "import matplotlib.image as mpimg\n",
    "\n",
    "import seaborn as sns\n",
    "import glob\n",
    "from pathlib import Path\n",
    "import re\n",
    "from skimage import color, exposure\n",
    "from sklearn.metrics import classification_report\n",
    "from sklearn.model_selection import train_test_split"
   ]
  },
  {
   "cell_type": "code",
   "execution_count": 44,
   "metadata": {
    "ExecuteTime": {
     "end_time": "2021-04-09T14:29:25.035271Z",
     "start_time": "2021-04-09T14:29:25.032116Z"
    }
   },
   "outputs": [],
   "source": [
    "pd.set_option('display.max_columns', None)"
   ]
  },
  {
   "cell_type": "code",
   "execution_count": 29,
   "metadata": {
    "ExecuteTime": {
     "end_time": "2021-04-09T14:20:47.832274Z",
     "start_time": "2021-04-09T14:20:46.487996Z"
    }
   },
   "outputs": [],
   "source": [
    "df = pd.read_csv('final_train.csv',index_col='Unnamed: 0')"
   ]
  },
  {
   "cell_type": "code",
   "execution_count": 30,
   "metadata": {
    "ExecuteTime": {
     "end_time": "2021-04-09T14:20:47.839283Z",
     "start_time": "2021-04-09T14:20:47.834637Z"
    }
   },
   "outputs": [
    {
     "data": {
      "text/plain": [
       "(11086, 572)"
      ]
     },
     "execution_count": 30,
     "metadata": {},
     "output_type": "execute_result"
    }
   ],
   "source": [
    "df.shape"
   ]
  },
  {
   "cell_type": "code",
   "execution_count": 31,
   "metadata": {
    "ExecuteTime": {
     "end_time": "2021-04-09T14:20:47.856136Z",
     "start_time": "2021-04-09T14:20:47.842356Z"
    }
   },
   "outputs": [
    {
     "data": {
      "text/html": [
       "<div>\n",
       "<style scoped>\n",
       "    .dataframe tbody tr th:only-of-type {\n",
       "        vertical-align: middle;\n",
       "    }\n",
       "\n",
       "    .dataframe tbody tr th {\n",
       "        vertical-align: top;\n",
       "    }\n",
       "\n",
       "    .dataframe thead th {\n",
       "        text-align: right;\n",
       "    }\n",
       "</style>\n",
       "<table border=\"1\" class=\"dataframe\">\n",
       "  <thead>\n",
       "    <tr style=\"text-align: right;\">\n",
       "      <th></th>\n",
       "      <th>Activity</th>\n",
       "      <th>void()</th>\n",
       "    </tr>\n",
       "  </thead>\n",
       "  <tbody>\n",
       "    <tr>\n",
       "      <th>10440</th>\n",
       "      <td>WALKING_UPSTAIRS</td>\n",
       "      <td>1.0</td>\n",
       "    </tr>\n",
       "    <tr>\n",
       "      <th>425</th>\n",
       "      <td>LAYING</td>\n",
       "      <td>3.0</td>\n",
       "    </tr>\n",
       "    <tr>\n",
       "      <th>6072</th>\n",
       "      <td>LAYING</td>\n",
       "      <td>3.0</td>\n",
       "    </tr>\n",
       "    <tr>\n",
       "      <th>865</th>\n",
       "      <td>LAYING</td>\n",
       "      <td>1.0</td>\n",
       "    </tr>\n",
       "    <tr>\n",
       "      <th>279</th>\n",
       "      <td>STANDING</td>\n",
       "      <td>2.0</td>\n",
       "    </tr>\n",
       "    <tr>\n",
       "      <th>5970</th>\n",
       "      <td>WALKING_UPSTAIRS</td>\n",
       "      <td>2.0</td>\n",
       "    </tr>\n",
       "    <tr>\n",
       "      <th>7609</th>\n",
       "      <td>SITTING</td>\n",
       "      <td>2.0</td>\n",
       "    </tr>\n",
       "    <tr>\n",
       "      <th>8748</th>\n",
       "      <td>WALKING_DOWNSTAIRS</td>\n",
       "      <td>3.0</td>\n",
       "    </tr>\n",
       "    <tr>\n",
       "      <th>548</th>\n",
       "      <td>WALKING_DOWNSTAIRS</td>\n",
       "      <td>3.0</td>\n",
       "    </tr>\n",
       "    <tr>\n",
       "      <th>7364</th>\n",
       "      <td>WALKING_UPSTAIRS</td>\n",
       "      <td>2.0</td>\n",
       "    </tr>\n",
       "  </tbody>\n",
       "</table>\n",
       "</div>"
      ],
      "text/plain": [
       "                 Activity  void()\n",
       "10440    WALKING_UPSTAIRS     1.0\n",
       "425                LAYING     3.0\n",
       "6072               LAYING     3.0\n",
       "865                LAYING     1.0\n",
       "279              STANDING     2.0\n",
       "5970     WALKING_UPSTAIRS     2.0\n",
       "7609              SITTING     2.0\n",
       "8748   WALKING_DOWNSTAIRS     3.0\n",
       "548    WALKING_DOWNSTAIRS     3.0\n",
       "7364     WALKING_UPSTAIRS     2.0"
      ]
     },
     "execution_count": 31,
     "metadata": {},
     "output_type": "execute_result"
    }
   ],
   "source": [
    "df[['Activity', 'void()']].sample(10)"
   ]
  },
  {
   "cell_type": "code",
   "execution_count": 32,
   "metadata": {
    "ExecuteTime": {
     "end_time": "2021-04-09T14:21:03.663929Z",
     "start_time": "2021-04-09T14:21:03.655984Z"
    }
   },
   "outputs": [
    {
     "data": {
      "text/plain": [
       "LAYING                2167\n",
       "SITTING               2019\n",
       "STANDING              1979\n",
       "WALKING               1900\n",
       "WALKING_UPSTAIRS      1633\n",
       "WALKING_DOWNSTAIRS    1388\n",
       "Name: Activity, dtype: int64"
      ]
     },
     "execution_count": 32,
     "metadata": {},
     "output_type": "execute_result"
    }
   ],
   "source": [
    "df['Activity'].value_counts()"
   ]
  },
  {
   "cell_type": "code",
   "execution_count": 33,
   "metadata": {
    "ExecuteTime": {
     "end_time": "2021-04-09T14:15:27.006087Z",
     "start_time": "2021-04-09T14:15:26.999590Z"
    }
   },
   "outputs": [
    {
     "data": {
      "text/plain": [
       "array(['STANDING', 'WALKING_UPSTAIRS', 'LAYING', 'WALKING', 'SITTING',\n",
       "       'WALKING_DOWNSTAIRS'], dtype=object)"
      ]
     },
     "execution_count": 33,
     "metadata": {},
     "output_type": "execute_result"
    }
   ],
   "source": [
    "df['Activity'].unique()"
   ]
  },
  {
   "cell_type": "code",
   "execution_count": 34,
   "metadata": {
    "ExecuteTime": {
     "end_time": "2021-04-09T14:24:36.254259Z",
     "start_time": "2021-04-09T14:24:36.248199Z"
    }
   },
   "outputs": [
    {
     "data": {
      "text/plain": [
       "0        1.0\n",
       "1        2.0\n",
       "2        3.0\n",
       "3        2.0\n",
       "4        3.0\n",
       "        ... \n",
       "11081    2.0\n",
       "11082    1.0\n",
       "11083    1.0\n",
       "11084    3.0\n",
       "11085    1.0\n",
       "Name: void(), Length: 11086, dtype: float64"
      ]
     },
     "execution_count": 34,
     "metadata": {},
     "output_type": "execute_result"
    }
   ],
   "source": [
    "df['void()']"
   ]
  },
  {
   "cell_type": "code",
   "execution_count": 35,
   "metadata": {
    "ExecuteTime": {
     "end_time": "2021-04-09T14:29:28.897347Z",
     "start_time": "2021-04-09T14:29:28.325091Z"
    }
   },
   "outputs": [
    {
     "data": {
      "text/html": [
       "<div>\n",
       "<style scoped>\n",
       "    .dataframe tbody tr th:only-of-type {\n",
       "        vertical-align: middle;\n",
       "    }\n",
       "\n",
       "    .dataframe tbody tr th {\n",
       "        vertical-align: top;\n",
       "    }\n",
       "\n",
       "    .dataframe thead th {\n",
       "        text-align: right;\n",
       "    }\n",
       "</style>\n",
       "<table border=\"1\" class=\"dataframe\">\n",
       "  <thead>\n",
       "    <tr style=\"text-align: right;\">\n",
       "      <th></th>\n",
       "      <th>Activity</th>\n",
       "      <th>angle(X,gravityMean)</th>\n",
       "      <th>angle(Y,gravityMean)</th>\n",
       "      <th>angle(Z,gravityMean)</th>\n",
       "      <th>angle(tBodyAccJerkMean),gravityMean)</th>\n",
       "      <th>angle(tBodyAccMean,gravity)</th>\n",
       "      <th>angle(tBodyGyroJerkMean,gravityMean)</th>\n",
       "      <th>angle(tBodyGyroMean,gravityMean)</th>\n",
       "      <th>energy-mean()</th>\n",
       "      <th>fBodyAcc-bandsEnergy()-1,16</th>\n",
       "      <th>...</th>\n",
       "      <th>tGravityAccMag-energy()</th>\n",
       "      <th>tGravityAccMag-entropy()</th>\n",
       "      <th>tGravityAccMag-iqr()</th>\n",
       "      <th>tGravityAccMag-mad()</th>\n",
       "      <th>tGravityAccMag-max()</th>\n",
       "      <th>tGravityAccMag-mean()</th>\n",
       "      <th>tGravityAccMag-min()</th>\n",
       "      <th>tGravityAccMag-sma()</th>\n",
       "      <th>tGravityAccMag-std()</th>\n",
       "      <th>void()</th>\n",
       "    </tr>\n",
       "  </thead>\n",
       "  <tbody>\n",
       "    <tr>\n",
       "      <th>0</th>\n",
       "      <td>STANDING</td>\n",
       "      <td>-1.574191</td>\n",
       "      <td>-0.805700</td>\n",
       "      <td>-2.453831</td>\n",
       "      <td>-1.861714</td>\n",
       "      <td>0.115517</td>\n",
       "      <td>-2.023369</td>\n",
       "      <td>3.125860</td>\n",
       "      <td>-9.474436</td>\n",
       "      <td>3.622600</td>\n",
       "      <td>...</td>\n",
       "      <td>5.049130</td>\n",
       "      <td>3.272281</td>\n",
       "      <td>5.103018</td>\n",
       "      <td>-0.823302</td>\n",
       "      <td>3.063681</td>\n",
       "      <td>-0.928676</td>\n",
       "      <td>-1.007695</td>\n",
       "      <td>3.094236</td>\n",
       "      <td>1.669987</td>\n",
       "      <td>1.0</td>\n",
       "    </tr>\n",
       "    <tr>\n",
       "      <th>1</th>\n",
       "      <td>WALKING_UPSTAIRS</td>\n",
       "      <td>-1.568669</td>\n",
       "      <td>-0.612620</td>\n",
       "      <td>-2.488338</td>\n",
       "      <td>-1.751117</td>\n",
       "      <td>0.218134</td>\n",
       "      <td>0.280294</td>\n",
       "      <td>7.953403</td>\n",
       "      <td>-0.679894</td>\n",
       "      <td>2.512880</td>\n",
       "      <td>...</td>\n",
       "      <td>4.565443</td>\n",
       "      <td>4.440779</td>\n",
       "      <td>3.288399</td>\n",
       "      <td>-2.689605</td>\n",
       "      <td>1.705341</td>\n",
       "      <td>-0.822617</td>\n",
       "      <td>-0.572410</td>\n",
       "      <td>-2.187890</td>\n",
       "      <td>-0.544652</td>\n",
       "      <td>2.0</td>\n",
       "    </tr>\n",
       "    <tr>\n",
       "      <th>2</th>\n",
       "      <td>LAYING</td>\n",
       "      <td>-1.548333</td>\n",
       "      <td>-0.139628</td>\n",
       "      <td>-2.380889</td>\n",
       "      <td>-1.915239</td>\n",
       "      <td>0.067613</td>\n",
       "      <td>-0.887342</td>\n",
       "      <td>6.007361</td>\n",
       "      <td>-11.906904</td>\n",
       "      <td>3.621984</td>\n",
       "      <td>...</td>\n",
       "      <td>5.059609</td>\n",
       "      <td>2.296603</td>\n",
       "      <td>5.344174</td>\n",
       "      <td>-0.549843</td>\n",
       "      <td>3.272225</td>\n",
       "      <td>-0.940610</td>\n",
       "      <td>-1.031522</td>\n",
       "      <td>-2.071755</td>\n",
       "      <td>2.024442</td>\n",
       "      <td>3.0</td>\n",
       "    </tr>\n",
       "    <tr>\n",
       "      <th>3</th>\n",
       "      <td>WALKING</td>\n",
       "      <td>-1.574094</td>\n",
       "      <td>-0.793443</td>\n",
       "      <td>-2.449959</td>\n",
       "      <td>-1.842741</td>\n",
       "      <td>-0.195625</td>\n",
       "      <td>-0.950671</td>\n",
       "      <td>2.104353</td>\n",
       "      <td>-11.906121</td>\n",
       "      <td>3.355701</td>\n",
       "      <td>...</td>\n",
       "      <td>4.860758</td>\n",
       "      <td>4.177535</td>\n",
       "      <td>3.950012</td>\n",
       "      <td>-0.322642</td>\n",
       "      <td>2.366287</td>\n",
       "      <td>-0.866937</td>\n",
       "      <td>-0.696431</td>\n",
       "      <td>1.863375</td>\n",
       "      <td>0.550414</td>\n",
       "      <td>2.0</td>\n",
       "    </tr>\n",
       "    <tr>\n",
       "      <th>4</th>\n",
       "      <td>LAYING</td>\n",
       "      <td>-1.548333</td>\n",
       "      <td>-0.139628</td>\n",
       "      <td>-2.380889</td>\n",
       "      <td>NaN</td>\n",
       "      <td>0.067613</td>\n",
       "      <td>-0.887342</td>\n",
       "      <td>6.007361</td>\n",
       "      <td>-11.970485</td>\n",
       "      <td>3.621984</td>\n",
       "      <td>...</td>\n",
       "      <td>5.059609</td>\n",
       "      <td>2.296603</td>\n",
       "      <td>5.344174</td>\n",
       "      <td>-0.549843</td>\n",
       "      <td>3.272225</td>\n",
       "      <td>-0.940610</td>\n",
       "      <td>-1.031522</td>\n",
       "      <td>-2.102513</td>\n",
       "      <td>2.024442</td>\n",
       "      <td>3.0</td>\n",
       "    </tr>\n",
       "    <tr>\n",
       "      <th>...</th>\n",
       "      <td>...</td>\n",
       "      <td>...</td>\n",
       "      <td>...</td>\n",
       "      <td>...</td>\n",
       "      <td>...</td>\n",
       "      <td>...</td>\n",
       "      <td>...</td>\n",
       "      <td>...</td>\n",
       "      <td>...</td>\n",
       "      <td>...</td>\n",
       "      <td>...</td>\n",
       "      <td>...</td>\n",
       "      <td>...</td>\n",
       "      <td>...</td>\n",
       "      <td>...</td>\n",
       "      <td>...</td>\n",
       "      <td>...</td>\n",
       "      <td>...</td>\n",
       "      <td>...</td>\n",
       "      <td>...</td>\n",
       "      <td>...</td>\n",
       "    </tr>\n",
       "    <tr>\n",
       "      <th>11081</th>\n",
       "      <td>WALKING_UPSTAIRS</td>\n",
       "      <td>-1.568669</td>\n",
       "      <td>-0.612620</td>\n",
       "      <td>-2.488338</td>\n",
       "      <td>-1.751117</td>\n",
       "      <td>0.218134</td>\n",
       "      <td>0.280294</td>\n",
       "      <td>7.953403</td>\n",
       "      <td>-0.679894</td>\n",
       "      <td>2.512880</td>\n",
       "      <td>...</td>\n",
       "      <td>4.565443</td>\n",
       "      <td>4.440779</td>\n",
       "      <td>3.288399</td>\n",
       "      <td>-2.689605</td>\n",
       "      <td>1.705341</td>\n",
       "      <td>-0.822617</td>\n",
       "      <td>-0.572410</td>\n",
       "      <td>3.534816</td>\n",
       "      <td>-0.544652</td>\n",
       "      <td>2.0</td>\n",
       "    </tr>\n",
       "    <tr>\n",
       "      <th>11082</th>\n",
       "      <td>LAYING</td>\n",
       "      <td>-1.550288</td>\n",
       "      <td>-0.231565</td>\n",
       "      <td>-2.376561</td>\n",
       "      <td>-1.868524</td>\n",
       "      <td>0.007653</td>\n",
       "      <td>-0.077020</td>\n",
       "      <td>5.494466</td>\n",
       "      <td>-5.860692</td>\n",
       "      <td>3.603169</td>\n",
       "      <td>...</td>\n",
       "      <td>5.048737</td>\n",
       "      <td>2.923856</td>\n",
       "      <td>5.182026</td>\n",
       "      <td>-0.998495</td>\n",
       "      <td>2.853755</td>\n",
       "      <td>-0.933561</td>\n",
       "      <td>-1.000173</td>\n",
       "      <td>-1.984575</td>\n",
       "      <td>1.372763</td>\n",
       "      <td>1.0</td>\n",
       "    </tr>\n",
       "    <tr>\n",
       "      <th>11083</th>\n",
       "      <td>WALKING_UPSTAIRS</td>\n",
       "      <td>-1.569815</td>\n",
       "      <td>-0.794940</td>\n",
       "      <td>-2.482325</td>\n",
       "      <td>-1.784151</td>\n",
       "      <td>0.021844</td>\n",
       "      <td>-0.740329</td>\n",
       "      <td>8.005261</td>\n",
       "      <td>-11.916107</td>\n",
       "      <td>2.644861</td>\n",
       "      <td>...</td>\n",
       "      <td>4.453514</td>\n",
       "      <td>4.302852</td>\n",
       "      <td>2.979961</td>\n",
       "      <td>-6.032382</td>\n",
       "      <td>1.853029</td>\n",
       "      <td>-0.802817</td>\n",
       "      <td>0.041975</td>\n",
       "      <td>3.427548</td>\n",
       "      <td>-0.075184</td>\n",
       "      <td>1.0</td>\n",
       "    </tr>\n",
       "    <tr>\n",
       "      <th>11084</th>\n",
       "      <td>WALKING_DOWNSTAIRS</td>\n",
       "      <td>-1.574768</td>\n",
       "      <td>-0.752847</td>\n",
       "      <td>-2.449529</td>\n",
       "      <td>-1.737755</td>\n",
       "      <td>-0.189761</td>\n",
       "      <td>-0.454246</td>\n",
       "      <td>8.054443</td>\n",
       "      <td>-5.611277</td>\n",
       "      <td>2.473134</td>\n",
       "      <td>...</td>\n",
       "      <td>4.615939</td>\n",
       "      <td>4.443277</td>\n",
       "      <td>3.208597</td>\n",
       "      <td>-6.200222</td>\n",
       "      <td>1.675269</td>\n",
       "      <td>-0.828934</td>\n",
       "      <td>-0.877004</td>\n",
       "      <td>3.385405</td>\n",
       "      <td>-0.383217</td>\n",
       "      <td>3.0</td>\n",
       "    </tr>\n",
       "    <tr>\n",
       "      <th>11085</th>\n",
       "      <td>WALKING</td>\n",
       "      <td>-1.573186</td>\n",
       "      <td>-0.584008</td>\n",
       "      <td>-2.469062</td>\n",
       "      <td>-1.770029</td>\n",
       "      <td>-0.589358</td>\n",
       "      <td>-1.695744</td>\n",
       "      <td>7.306605</td>\n",
       "      <td>-11.917694</td>\n",
       "      <td>2.972936</td>\n",
       "      <td>...</td>\n",
       "      <td>4.734942</td>\n",
       "      <td>4.304923</td>\n",
       "      <td>3.757613</td>\n",
       "      <td>-2.112537</td>\n",
       "      <td>2.081746</td>\n",
       "      <td>-0.843569</td>\n",
       "      <td>-0.423656</td>\n",
       "      <td>1.397488</td>\n",
       "      <td>0.244843</td>\n",
       "      <td>1.0</td>\n",
       "    </tr>\n",
       "  </tbody>\n",
       "</table>\n",
       "<p>11086 rows × 572 columns</p>\n",
       "</div>"
      ],
      "text/plain": [
       "                 Activity  angle(X,gravityMean)  angle(Y,gravityMean)  \\\n",
       "0                STANDING             -1.574191             -0.805700   \n",
       "1        WALKING_UPSTAIRS             -1.568669             -0.612620   \n",
       "2                  LAYING             -1.548333             -0.139628   \n",
       "3                 WALKING             -1.574094             -0.793443   \n",
       "4                  LAYING             -1.548333             -0.139628   \n",
       "...                   ...                   ...                   ...   \n",
       "11081    WALKING_UPSTAIRS             -1.568669             -0.612620   \n",
       "11082              LAYING             -1.550288             -0.231565   \n",
       "11083    WALKING_UPSTAIRS             -1.569815             -0.794940   \n",
       "11084  WALKING_DOWNSTAIRS             -1.574768             -0.752847   \n",
       "11085             WALKING             -1.573186             -0.584008   \n",
       "\n",
       "       angle(Z,gravityMean)  angle(tBodyAccJerkMean),gravityMean)  \\\n",
       "0                 -2.453831                             -1.861714   \n",
       "1                 -2.488338                             -1.751117   \n",
       "2                 -2.380889                             -1.915239   \n",
       "3                 -2.449959                             -1.842741   \n",
       "4                 -2.380889                                   NaN   \n",
       "...                     ...                                   ...   \n",
       "11081             -2.488338                             -1.751117   \n",
       "11082             -2.376561                             -1.868524   \n",
       "11083             -2.482325                             -1.784151   \n",
       "11084             -2.449529                             -1.737755   \n",
       "11085             -2.469062                             -1.770029   \n",
       "\n",
       "       angle(tBodyAccMean,gravity)  angle(tBodyGyroJerkMean,gravityMean)  \\\n",
       "0                         0.115517                             -2.023369   \n",
       "1                         0.218134                              0.280294   \n",
       "2                         0.067613                             -0.887342   \n",
       "3                        -0.195625                             -0.950671   \n",
       "4                         0.067613                             -0.887342   \n",
       "...                            ...                                   ...   \n",
       "11081                     0.218134                              0.280294   \n",
       "11082                     0.007653                             -0.077020   \n",
       "11083                     0.021844                             -0.740329   \n",
       "11084                    -0.189761                             -0.454246   \n",
       "11085                    -0.589358                             -1.695744   \n",
       "\n",
       "       angle(tBodyGyroMean,gravityMean)  energy-mean()  \\\n",
       "0                              3.125860      -9.474436   \n",
       "1                              7.953403      -0.679894   \n",
       "2                              6.007361     -11.906904   \n",
       "3                              2.104353     -11.906121   \n",
       "4                              6.007361     -11.970485   \n",
       "...                                 ...            ...   \n",
       "11081                          7.953403      -0.679894   \n",
       "11082                          5.494466      -5.860692   \n",
       "11083                          8.005261     -11.916107   \n",
       "11084                          8.054443      -5.611277   \n",
       "11085                          7.306605     -11.917694   \n",
       "\n",
       "       fBodyAcc-bandsEnergy()-1,16  ...  tGravityAccMag-energy()  \\\n",
       "0                         3.622600  ...                 5.049130   \n",
       "1                         2.512880  ...                 4.565443   \n",
       "2                         3.621984  ...                 5.059609   \n",
       "3                         3.355701  ...                 4.860758   \n",
       "4                         3.621984  ...                 5.059609   \n",
       "...                            ...  ...                      ...   \n",
       "11081                     2.512880  ...                 4.565443   \n",
       "11082                     3.603169  ...                 5.048737   \n",
       "11083                     2.644861  ...                 4.453514   \n",
       "11084                     2.473134  ...                 4.615939   \n",
       "11085                     2.972936  ...                 4.734942   \n",
       "\n",
       "       tGravityAccMag-entropy()  tGravityAccMag-iqr()  tGravityAccMag-mad()  \\\n",
       "0                      3.272281              5.103018             -0.823302   \n",
       "1                      4.440779              3.288399             -2.689605   \n",
       "2                      2.296603              5.344174             -0.549843   \n",
       "3                      4.177535              3.950012             -0.322642   \n",
       "4                      2.296603              5.344174             -0.549843   \n",
       "...                         ...                   ...                   ...   \n",
       "11081                  4.440779              3.288399             -2.689605   \n",
       "11082                  2.923856              5.182026             -0.998495   \n",
       "11083                  4.302852              2.979961             -6.032382   \n",
       "11084                  4.443277              3.208597             -6.200222   \n",
       "11085                  4.304923              3.757613             -2.112537   \n",
       "\n",
       "       tGravityAccMag-max()  tGravityAccMag-mean()  tGravityAccMag-min()  \\\n",
       "0                  3.063681              -0.928676             -1.007695   \n",
       "1                  1.705341              -0.822617             -0.572410   \n",
       "2                  3.272225              -0.940610             -1.031522   \n",
       "3                  2.366287              -0.866937             -0.696431   \n",
       "4                  3.272225              -0.940610             -1.031522   \n",
       "...                     ...                    ...                   ...   \n",
       "11081              1.705341              -0.822617             -0.572410   \n",
       "11082              2.853755              -0.933561             -1.000173   \n",
       "11083              1.853029              -0.802817              0.041975   \n",
       "11084              1.675269              -0.828934             -0.877004   \n",
       "11085              2.081746              -0.843569             -0.423656   \n",
       "\n",
       "       tGravityAccMag-sma()  tGravityAccMag-std()  void()  \n",
       "0                  3.094236              1.669987     1.0  \n",
       "1                 -2.187890             -0.544652     2.0  \n",
       "2                 -2.071755              2.024442     3.0  \n",
       "3                  1.863375              0.550414     2.0  \n",
       "4                 -2.102513              2.024442     3.0  \n",
       "...                     ...                   ...     ...  \n",
       "11081              3.534816             -0.544652     2.0  \n",
       "11082             -1.984575              1.372763     1.0  \n",
       "11083              3.427548             -0.075184     1.0  \n",
       "11084              3.385405             -0.383217     3.0  \n",
       "11085              1.397488              0.244843     1.0  \n",
       "\n",
       "[11086 rows x 572 columns]"
      ]
     },
     "execution_count": 35,
     "metadata": {},
     "output_type": "execute_result"
    }
   ],
   "source": [
    "df"
   ]
  },
  {
   "cell_type": "code",
   "execution_count": 36,
   "metadata": {
    "ExecuteTime": {
     "end_time": "2021-04-09T14:30:43.888963Z",
     "start_time": "2021-04-09T14:30:34.423495Z"
    },
    "scrolled": true
   },
   "outputs": [],
   "source": [
    "tab = []\n",
    "for it in df.index:\n",
    "    tab.append(df.loc[it].isna().sum().sum())\n",
    "#     print(it, df.loc[it].isna().sum().sum())"
   ]
  },
  {
   "cell_type": "code",
   "execution_count": 37,
   "metadata": {
    "ExecuteTime": {
     "end_time": "2021-04-09T14:34:44.580322Z",
     "start_time": "2021-04-09T14:34:44.573294Z"
    }
   },
   "outputs": [
    {
     "data": {
      "text/plain": [
       "(array([ 0,  4,  5,  6,  7,  8,  9, 10, 11, 12, 13, 14, 15, 16, 17, 18, 19,\n",
       "        20, 21, 22, 23, 24, 25, 26, 27, 28, 29, 30, 31, 32, 33, 34, 35, 36,\n",
       "        37, 38, 39, 40], dtype=int64),\n",
       " array([9624,    1,   37,   54,   40,   39,   40,   32,   42,   51,   42,\n",
       "          41,   35,   41,   41,   37,   37,   42,   39,   31,   42,   43,\n",
       "          44,   39,   33,   41,   48,   43,   42,   35,   49,   53,   55,\n",
       "          54,   43,   37,   31,    8], dtype=int64))"
      ]
     },
     "execution_count": 37,
     "metadata": {},
     "output_type": "execute_result"
    }
   ],
   "source": [
    "np.unique(np.array(tab), return_counts=True)"
   ]
  },
  {
   "cell_type": "code",
   "execution_count": 38,
   "metadata": {
    "ExecuteTime": {
     "end_time": "2021-04-09T14:32:13.166061Z",
     "start_time": "2021-04-09T14:32:12.840289Z"
    }
   },
   "outputs": [
    {
     "data": {
      "image/png": "[encoded data removed]",
      "text/plain": [
       "<Figure size 432x288 with 1 Axes>"
      ]
     },
     "metadata": {
      "needs_background": "light"
     },
     "output_type": "display_data"
    }
   ],
   "source": [
    "plt.hist(tab, bins=100);"
   ]
  },
  {
   "cell_type": "code",
   "execution_count": 48,
   "metadata": {
    "ExecuteTime": {
     "end_time": "2021-04-09T14:58:29.401185Z",
     "start_time": "2021-04-09T14:58:29.365051Z"
    }
   },
   "outputs": [],
   "source": [
    "df['Liczba bledow']=tab\n",
    "df1 = df[df['Liczba bledow']<=5]"
   ]
  },
  {
   "cell_type": "code",
   "execution_count": 49,
   "metadata": {
    "ExecuteTime": {
     "end_time": "2021-04-09T14:58:30.804721Z",
     "start_time": "2021-04-09T14:58:30.152596Z"
    },
    "scrolled": true
   },
   "outputs": [
    {
     "name": "stderr",
     "output_type": "stream",
     "text": [
      "<ipython-input-49-15b21a398839>:4: SettingWithCopyWarning: \n",
      "A value is trying to be set on a copy of a slice from a DataFrame.\n",
      "Try using .loc[row_indexer,col_indexer] = value instead\n",
      "\n",
      "See the caveats in the documentation: https://pandas.pydata.org/pandas-docs/stable/user_guide/indexing.html#returning-a-view-versus-a-copy\n",
      "  df1[col] = df1[col].fillna((df[col].mean()))\n"
     ]
    }
   ],
   "source": [
    "for col in df1.columns:\n",
    "    # print(col, df1[col].dtypes)\n",
    "    if(df1[col].dtypes != object):\n",
    "        df1[col] = df1[col].fillna((df[col].mean()))"
   ]
  },
  {
   "cell_type": "code",
   "execution_count": 50,
   "metadata": {
    "ExecuteTime": {
     "end_time": "2021-04-09T14:58:35.768404Z",
     "start_time": "2021-04-09T14:58:31.949386Z"
    }
   },
   "outputs": [
    {
     "name": "stderr",
     "output_type": "stream",
     "text": [
      "<ipython-input-50-8fb11c14850f>:4: SettingWithCopyWarning: \n",
      "A value is trying to be set on a copy of a slice from a DataFrame.\n",
      "Try using .loc[row_indexer,col_indexer] = value instead\n",
      "\n",
      "See the caveats in the documentation: https://pandas.pydata.org/pandas-docs/stable/user_guide/indexing.html#returning-a-view-versus-a-copy\n",
      "  df1[col] = df1[col].astype('float32')\n"
     ]
    }
   ],
   "source": [
    "for col in df1.columns:\n",
    "    # print(col, df1[col].dtypes)\n",
    "    if(df1[col].dtypes == 'float64'):\n",
    "        df1[col] = df1[col].astype('float32')"
   ]
  },
  {
   "cell_type": "code",
   "execution_count": 51,
   "metadata": {
    "ExecuteTime": {
     "end_time": "2021-04-09T14:58:53.968417Z",
     "start_time": "2021-04-09T14:58:53.755366Z"
    }
   },
   "outputs": [
    {
     "name": "stdout",
     "output_type": "stream",
     "text": [
      "<class 'pandas.core.frame.DataFrame'>\n",
      "Int64Index: 9662 entries, 0 to 11085\n",
      "Columns: 573 entries, Activity to Liczba bledow\n",
      "dtypes: float32(570), int64(2), object(1)\n",
      "memory usage: 21.3+ MB\n"
     ]
    }
   ],
   "source": [
    "df1.info()"
   ]
  },
  {
   "cell_type": "code",
   "execution_count": 52,
   "metadata": {
    "ExecuteTime": {
     "end_time": "2021-04-09T14:59:24.479628Z",
     "start_time": "2021-04-09T14:59:24.457197Z"
    },
    "scrolled": true
   },
   "outputs": [
    {
     "data": {
      "text/plain": [
       "0"
      ]
     },
     "execution_count": 52,
     "metadata": {},
     "output_type": "execute_result"
    }
   ],
   "source": [
    "df1.isna().sum().sum()"
   ]
  },
  {
   "cell_type": "code",
   "execution_count": 53,
   "metadata": {},
   "outputs": [
    {
     "name": "stderr",
     "output_type": "stream",
     "text": [
      "<ipython-input-53-f37884baf17d>:2: SettingWithCopyWarning: \n",
      "A value is trying to be set on a copy of a slice from a DataFrame\n",
      "\n",
      "See the caveats in the documentation: https://pandas.pydata.org/pandas-docs/stable/user_guide/indexing.html#returning-a-view-versus-a-copy\n",
      "  df1.drop_duplicates(inplace = True)\n"
     ]
    }
   ],
   "source": [
    "del df1['Liczba bledow']\n",
    "df1.drop_duplicates(inplace = True)\n"
   ]
  },
  {
   "cell_type": "code",
   "execution_count": 54,
   "metadata": {},
   "outputs": [],
   "source": [
    "\n",
    "df1 = df1.rename(columns = lambda x:re.sub('[^A-Za-z0-9_]+', '', x))"
   ]
  },
  {
   "cell_type": "code",
   "execution_count": 55,
   "metadata": {},
   "outputs": [
    {
     "data": {
      "text/plain": [
       "(9551, 572)"
      ]
     },
     "execution_count": 55,
     "metadata": {},
     "output_type": "execute_result"
    }
   ],
   "source": [
    "df1.shape"
   ]
  },
  {
   "cell_type": "code",
   "execution_count": 56,
   "metadata": {
    "ExecuteTime": {
     "end_time": "2021-04-09T15:00:20.456525Z",
     "start_time": "2021-04-09T15:00:12.844678Z"
    }
   },
   "outputs": [],
   "source": [
    "df1.to_csv('df_bezNAN.csv')"
   ]
  },
  {
   "cell_type": "code",
   "execution_count": null,
   "metadata": {},
   "outputs": [],
   "source": []
  }
 ],
 "metadata": {
  "hide_input": false,
  "kernelspec": {
   "display_name": "Python 3",
   "language": "python",
   "name": "python3"
  },
  "language_info": {
   "codemirror_mode": {
    "name": "ipython",
    "version": 3
   },
   "file_extension": ".py",
   "mimetype": "text/x-python",
   "name": "python",
   "nbconvert_exporter": "python",
   "pygments_lexer": "ipython3",
   "version": "3.8.5"
  },
  "toc": {
   "base_numbering": 1,
   "nav_menu": {},
   "number_sections": true,
   "sideBar": true,
   "skip_h1_title": false,
   "title_cell": "Table of Contents",
   "title_sidebar": "Contents",
   "toc_cell": false,
   "toc_position": {},
   "toc_section_display": true,
   "toc_window_display": false
  }
 },
 "nbformat": 4,
 "nbformat_minor": 4
}
