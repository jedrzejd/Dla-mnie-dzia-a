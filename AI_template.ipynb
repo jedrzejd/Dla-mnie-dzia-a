{
 "cells": [
  {
   "cell_type": "markdown",
   "metadata": {
    "id": "CkEuPVNxiDaO"
   },
   "source": [
    "# Sprawdzanie dokładności modelu\n",
    "Plik test_data.csv jest dostępny tylko dla jury. Zawiera dane testowe - jednakowe dla wszystkich drużyn. Jest w takim samym formacie co zbiór, który otrzymaliście wraz z zadaniem, tylko już z czystymi danymi."
   ]
  },
  {
   "cell_type": "code",
   "execution_count": 3,
   "metadata": {
    "id": "6fkHV7gRiDaV"
   },
   "outputs": [],
   "source": [
    "import pandas as pd\n",
    "import numpy as np"
   ]
  },
  {
   "cell_type": "code",
   "execution_count": null,
   "metadata": {
    "id": "N2tHoHFHiDaW"
   },
   "outputs": [],
   "source": [
    "test_data = pd.read_csv(\"test_data.csv\")"
   ]
  },
  {
   "cell_type": "markdown",
   "metadata": {
    "id": "uR5C4S8WiDaX"
   },
   "source": [
    "### Miejsce na twój kod:"
   ]
  },
  {
   "cell_type": "markdown",
   "metadata": {
    "id": "4G4fIjm5n0EE"
   },
   "source": [
    "### Obrobka danych trenujacych"
   ]
  },
  {
   "cell_type": "code",
   "execution_count": null,
   "metadata": {},
   "outputs": [],
   "source": [
    "!pip install lightgbm"
   ]
  },
  {
   "cell_type": "code",
   "execution_count": 4,
   "metadata": {
    "id": "wCVTzNZQiDaX"
   },
   "outputs": [],
   "source": [
    "import lightgbm as lgb\n",
    "import re"
   ]
  },
  {
   "cell_type": "code",
   "execution_count": 5,
   "metadata": {
    "colab": {
     "base_uri": "https://localhost:8080/"
    },
    "id": "nLsvh-rRiRSH",
    "outputId": "4cef9670-137c-4815-8155-ec1ff3f3093f"
   },
   "outputs": [
    {
     "name": "stdout",
     "output_type": "stream",
     "text": [
      "Drive already mounted at /content/drive; to attempt to forcibly remount, call drive.mount(\"/content/drive\", force_remount=True).\n"
     ]
    }
   ],
   "source": [
    "# from google.colab import drive\n",
    "# drive.mount('/content/drive')"
   ]
  },
  {
   "cell_type": "code",
   "execution_count": 6,
   "metadata": {
    "id": "qZwkMsSiiRw3"
   },
   "outputs": [],
   "source": [
    "pd.set_option('display.max_columns', None)"
   ]
  },
  {
   "cell_type": "code",
   "execution_count": 34,
   "metadata": {
    "id": "1Mn-k5PonLmR"
   },
   "outputs": [],
   "source": [
    "# df = pd.read_csv('./drive/MyDrive/final_train.csv')\n",
    "df = pd.read_csv('final_train.csv')"
   ]
  },
  {
   "cell_type": "code",
   "execution_count": 37,
   "metadata": {
    "id": "-opXc1R9usc-"
   },
   "outputs": [],
   "source": [
    "del df['Unnamed: 0']"
   ]
  },
  {
   "cell_type": "code",
   "execution_count": 10,
   "metadata": {
    "id": "PB1JCPbSnQBc"
   },
   "outputs": [],
   "source": [
    "tab = []\n",
    "for it in df.index:\n",
    "    tab.append(df.loc[it].isna().sum().sum())"
   ]
  },
  {
   "cell_type": "code",
   "execution_count": 11,
   "metadata": {
    "colab": {
     "base_uri": "https://localhost:8080/"
    },
    "id": "UNjVcl2iolvD",
    "outputId": "ca83a4d9-1e46-4de0-a715-0932cdb88a0f"
   },
   "outputs": [
    {
     "name": "stderr",
     "output_type": "stream",
     "text": [
      "/usr/local/lib/python3.7/dist-packages/ipykernel_launcher.py:1: SettingWithCopyWarning: \n",
      "A value is trying to be set on a copy of a slice from a DataFrame.\n",
      "Try using .loc[row_indexer,col_indexer] = value instead\n",
      "\n",
      "See the caveats in the documentation: https://pandas.pydata.org/pandas-docs/stable/user_guide/indexing.html#returning-a-view-versus-a-copy\n",
      "  \"\"\"Entry point for launching an IPython kernel.\n"
     ]
    }
   ],
   "source": [
    "df['Liczba bledow']=tab\n",
    "df1 = df[df['Liczba bledow']<=5]"
   ]
  },
  {
   "cell_type": "code",
   "execution_count": 12,
   "metadata": {
    "colab": {
     "base_uri": "https://localhost:8080/"
    },
    "id": "JaASPWrhnSEx",
    "outputId": "39588dd7-d53f-41c2-eb13-c332487d701f"
   },
   "outputs": [
    {
     "name": "stderr",
     "output_type": "stream",
     "text": [
      "/usr/local/lib/python3.7/dist-packages/ipykernel_launcher.py:3: SettingWithCopyWarning: \n",
      "A value is trying to be set on a copy of a slice from a DataFrame.\n",
      "Try using .loc[row_indexer,col_indexer] = value instead\n",
      "\n",
      "See the caveats in the documentation: https://pandas.pydata.org/pandas-docs/stable/user_guide/indexing.html#returning-a-view-versus-a-copy\n",
      "  This is separate from the ipykernel package so we can avoid doing imports until\n"
     ]
    }
   ],
   "source": [
    "for col in df1.columns:\n",
    "    if(df1[col].dtypes != object):\n",
    "        df1[col] = df1[col].fillna((df1[col].mean()))"
   ]
  },
  {
   "cell_type": "code",
   "execution_count": 13,
   "metadata": {
    "colab": {
     "base_uri": "https://localhost:8080/"
    },
    "id": "ZThQ7w9jnSQL",
    "outputId": "51ef90c0-b2e7-4307-d9cc-6c51cee9dc38"
   },
   "outputs": [
    {
     "name": "stderr",
     "output_type": "stream",
     "text": [
      "/usr/local/lib/python3.7/dist-packages/ipykernel_launcher.py:2: SettingWithCopyWarning: \n",
      "A value is trying to be set on a copy of a slice from a DataFrame\n",
      "\n",
      "See the caveats in the documentation: https://pandas.pydata.org/pandas-docs/stable/user_guide/indexing.html#returning-a-view-versus-a-copy\n",
      "  \n"
     ]
    }
   ],
   "source": [
    "del df1['Liczba bledow']\n",
    "df1.drop_duplicates(inplace = True)\n",
    "df1 = df1.rename(columns = lambda x:re.sub('[^A-Za-z0-9_]+', '', x))"
   ]
  },
  {
   "cell_type": "markdown",
   "metadata": {
    "id": "jEA_g1eLn73E"
   },
   "source": [
    "### Trenowanie modelu na danych treningowych obrobionych"
   ]
  },
  {
   "cell_type": "code",
   "execution_count": 14,
   "metadata": {
    "id": "0vi7NTkCiSUL"
   },
   "outputs": [],
   "source": [
    "best_params =  {\n",
    "    'learning_rate': 0.21846825100335193,\n",
    "    'max_depth': 4,\n",
    "    'n_estimators': 508,\n",
    "    'reg_lambda': 0.9172053528319594,\n",
    "    'subsample': 0.9063808886712854,\n",
    "    'random_state': 42\n",
    "}"
   ]
  },
  {
   "cell_type": "code",
   "execution_count": 15,
   "metadata": {
    "id": "GJf_m2lmi-lp"
   },
   "outputs": [],
   "source": [
    "very_small_feats = [\n",
    "    'tGravityAccmaxY',\n",
    "    'tGravityAccminX',\n",
    "    'subject',\n",
    "    'fBodyGyromaxIndsZ',\n",
    "    'tBodyAcccorrelationXY',\n",
    "    'tBodyGyromaxX',\n",
    "    'fBodyGyromeanFreqX'\n",
    "]"
   ]
  },
  {
   "cell_type": "code",
   "execution_count": 16,
   "metadata": {
    "id": "8iaNz_m-jsy5"
   },
   "outputs": [],
   "source": [
    "def train_model(model, X, y):\n",
    "    model.fit(X, y)\n",
    "    return model"
   ]
  },
  {
   "cell_type": "code",
   "execution_count": 17,
   "metadata": {
    "id": "oFDioUNvjtNc"
   },
   "outputs": [],
   "source": [
    "def predict_model(model, X):\n",
    "    y_pred = model.predict(X)\n",
    "    return y_pred"
   ]
  },
  {
   "cell_type": "code",
   "execution_count": 18,
   "metadata": {
    "id": "GZ9IRQhQjux0"
   },
   "outputs": [],
   "source": [
    "def score_model(y_test, y_pred, scoring):\n",
    "    score = scoring(y_test, y_pred, average='micro')\n",
    "    return score"
   ]
  },
  {
   "cell_type": "code",
   "execution_count": 19,
   "metadata": {
    "id": "FyY88z_Mi-2A"
   },
   "outputs": [],
   "source": [
    "def split_data_sm(df):\n",
    "    X = df[very_small_feats]\n",
    "    y = df['Activity']\n",
    "    return X, y"
   ]
  },
  {
   "cell_type": "code",
   "execution_count": 22,
   "metadata": {
    "id": "7eCCHTSXi_BF"
   },
   "outputs": [],
   "source": [
    "X, y = split_data_sm(df1)"
   ]
  },
  {
   "cell_type": "code",
   "execution_count": 23,
   "metadata": {
    "id": "qrLV8jGEjkh9"
   },
   "outputs": [],
   "source": [
    "model = lgb.LGBMClassifier(**best_params)"
   ]
  },
  {
   "cell_type": "code",
   "execution_count": 24,
   "metadata": {
    "id": "UlOpd6Ibjktk"
   },
   "outputs": [],
   "source": [
    "model = train_model(model, X, y)"
   ]
  },
  {
   "cell_type": "markdown",
   "metadata": {
    "id": "lTrmErEypDZy"
   },
   "source": [
    "### Oczyszczanie danych testowych"
   ]
  },
  {
   "cell_type": "code",
   "execution_count": null,
   "metadata": {
    "id": "52ABq3EnuyB-"
   },
   "outputs": [],
   "source": [
    "del test_data['Unnamed: 0']"
   ]
  },
  {
   "cell_type": "code",
   "execution_count": 26,
   "metadata": {
    "colab": {
     "base_uri": "https://localhost:8080/"
    },
    "id": "sC2jYhZxoKfg",
    "outputId": "f4d0452b-ecb4-4b25-990c-98c0d8dc210d"
   },
   "outputs": [
    {
     "name": "stderr",
     "output_type": "stream",
     "text": [
      "/usr/local/lib/python3.7/dist-packages/ipykernel_launcher.py:3: SettingWithCopyWarning: \n",
      "A value is trying to be set on a copy of a slice from a DataFrame.\n",
      "Try using .loc[row_indexer,col_indexer] = value instead\n",
      "\n",
      "See the caveats in the documentation: https://pandas.pydata.org/pandas-docs/stable/user_guide/indexing.html#returning-a-view-versus-a-copy\n",
      "  This is separate from the ipykernel package so we can avoid doing imports until\n"
     ]
    }
   ],
   "source": [
    "for col in test_data.columns:\n",
    "    if(test_data[col].dtypes != object):\n",
    "        test_data[col] = test_data[col].fillna((test_data[col].mean()))"
   ]
  },
  {
   "cell_type": "code",
   "execution_count": 28,
   "metadata": {
    "id": "oZ6LDBKiuFPP"
   },
   "outputs": [],
   "source": [
    "test_data = test_data.rename(columns = lambda x:re.sub('[^A-Za-z0-9_]+', '', x))"
   ]
  },
  {
   "cell_type": "code",
   "execution_count": 29,
   "metadata": {
    "id": "6e-FapoKtKPK"
   },
   "outputs": [],
   "source": [
    "X_test, y_test = split_data_sm(test_data)"
   ]
  },
  {
   "cell_type": "code",
   "execution_count": 31,
   "metadata": {
    "id": "FrL03y_Pjk54"
   },
   "outputs": [],
   "source": [
    "predicted = predict_model(model, X_test)"
   ]
  },
  {
   "cell_type": "markdown",
   "metadata": {
    "id": "Rhr4qT1riDaX"
   },
   "source": [
    "### Sprawdzanie dokładności:\n",
    "Predicted - zmienna przechowująca przewidzianą aktywność. Poniższa linijka powinna zwrócić wartość 0-1."
   ]
  },
  {
   "cell_type": "code",
   "execution_count": 38,
   "metadata": {
    "id": "FMO9IyPpiDaY"
   },
   "outputs": [],
   "source": [
    "np.mean(predicted == test_data.Activity)"
   ]
  }
 ],
 "metadata": {
  "colab": {
   "collapsed_sections": [],
   "name": "AI - template.ipynb",
   "provenance": [],
   "toc_visible": true
  },
  "kernelspec": {
   "display_name": "Python 3",
   "language": "python",
   "name": "python3"
  },
  "language_info": {
   "codemirror_mode": {
    "name": "ipython",
    "version": 3
   },
   "file_extension": ".py",
   "mimetype": "text/x-python",
   "name": "python",
   "nbconvert_exporter": "python",
   "pygments_lexer": "ipython3",
   "version": "3.8.5"
  }
 },
 "nbformat": 4,
 "nbformat_minor": 4
}
